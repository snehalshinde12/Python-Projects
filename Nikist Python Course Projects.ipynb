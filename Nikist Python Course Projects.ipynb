{
 "cells": [
  {
   "cell_type": "markdown",
   "id": "ff54482f-78e0-44c6-9592-47e7af42d6a7",
   "metadata": {},
   "source": [
    "# Project 1:Picking Random Numbers"
   ]
  },
  {
   "cell_type": "code",
   "execution_count": 1,
   "id": "3b653c0e-7467-415e-a604-5905a542e12b",
   "metadata": {},
   "outputs": [
    {
     "name": "stdout",
     "output_type": "stream",
     "text": [
      "2\n",
      "\n",
      "0.011675194851698989\n",
      "answer is 1\n"
     ]
    }
   ],
   "source": [
    "import random\n",
    "print(random.randint(1,10))\n",
    "print()\n",
    "print(random.random())\n",
    "answer=random.randint(1,3)\n",
    "if answer==1:\n",
    "  print(\"answer is 1\")\n",
    "if answer==2:\n",
    "  print(\"answer is 2\")\n",
    "if answer==3:\n",
    "  print(\"answer is 3\")\n"
   ]
  },
  {
   "cell_type": "markdown",
   "id": "9cb415d3-5f02-4a3f-9aeb-15059033a959",
   "metadata": {},
   "source": [
    "# Project2:Choosing what fortune to show"
   ]
  },
  {
   "cell_type": "code",
   "execution_count": 2,
   "id": "a6caeaaa-f9f8-4fe3-bd68-2eefc528805a",
   "metadata": {},
   "outputs": [
    {
     "name": "stdout",
     "output_type": "stream",
     "text": [
      "Your lucky color is Red Your lucky number is: 21\n"
     ]
    }
   ],
   "source": [
    "import random\n",
    "lucky_number=random.randint(1,100)\n",
    "fortune_number=random.randint(1,3)\n",
    "fortune_text=''\n",
    "\n",
    "if fortune_number==1:\n",
    "  fortune_text='You will have a great day!'\n",
    "if fortune_number==2:\n",
    "  fortune_text='Today will be tough...but worth it.'\n",
    "if fortune_number==3:\n",
    "  fortune_text='Your lucky color is Red'\n",
    "\n",
    "print(f'{fortune_text} Your lucky number is: {lucky_number}')"
   ]
  },
  {
   "cell_type": "markdown",
   "id": "30fb49cf-c9a2-4c95-b947-bf0b4a7d8f0e",
   "metadata": {},
   "source": [
    "# Project 3: Splitting a string"
   ]
  },
  {
   "cell_type": "code",
   "execution_count": 4,
   "id": "14a8cf39-25e1-4928-9069-7e10bb355634",
   "metadata": {},
   "outputs": [
    {
     "name": "stdout",
     "output_type": "stream",
     "text": [
      "Lorem ipsum dolor sit amet, consectetuer adipiscing elit. Aenean commodo ligula eget dolor. Aenean massa. Cum sociis natoque penatibus et magnis dis parturient montes, nascetur ridiculus mus. Donec quam felis, ultricies nec, pellentesque eu, pretium quis, sem. Nulla consequat massa quis enim. Donec pede justo, fringilla vel, aliquet nec, vulputate eget, arcu.\n",
      "\n",
      "In enim justo, rhoncus ut, imperdiet a, venenatis vitae, justo. Nullam dictum felis eu pede mollis pretium. Integer tincidunt. Cras dapibus. Vivamus elementum semper nisi. Aenean vulputate eleifend tellus. Aenean leo ligula, porttitor eu, consequat vitae, eleifend ac, enim. Aliquam lorem ante, dapibus in, viverra quis, feugiat a, tellus.\n",
      "\n",
      "Phasellus viverra nulla ut metus varius laoreet. Quisque rutrum. Aenean imperdiet. Etiam ultricies nisi vel augue. Curabitur ullamcorper ultricies nisi. Nam eget dui. Etiam rhoncus. Maecenas tempus, tellus eget condimentum rhoncus, sem quam semper libero, sit amet adipiscing sem neque sed ipsum. Nam quam nunc, blandit vel, luctus pulvinar, hendrerit id, lorem. Maecenas nec odio et ante tincidunt tempus. Donec vitae sapien ut libero venenatis faucibus. Nullam quis ante. Etiam sit amet orci eget eros faucibus tincidunt. Duis leo. Sed fringilla mauris sit amet nibh. Donec sodales sagittis magna. Sed consequat, leo eget bibendum sodales, augue velit cursus nunc,\n",
      "\n",
      "No of characters are:  1370\n",
      "No of words are:  200\n"
     ]
    }
   ],
   "source": [
    "text=\"\"\"Lorem ipsum dolor sit amet, consectetuer adipiscing elit. Aenean commodo ligula eget dolor. Aenean massa. Cum sociis natoque penatibus et magnis dis parturient montes, nascetur ridiculus mus. Donec quam felis, ultricies nec, pellentesque eu, pretium quis, sem. Nulla consequat massa quis enim. Donec pede justo, fringilla vel, aliquet nec, vulputate eget, arcu.\n",
    "\n",
    "In enim justo, rhoncus ut, imperdiet a, venenatis vitae, justo. Nullam dictum felis eu pede mollis pretium. Integer tincidunt. Cras dapibus. Vivamus elementum semper nisi. Aenean vulputate eleifend tellus. Aenean leo ligula, porttitor eu, consequat vitae, eleifend ac, enim. Aliquam lorem ante, dapibus in, viverra quis, feugiat a, tellus.\n",
    "\n",
    "Phasellus viverra nulla ut metus varius laoreet. Quisque rutrum. Aenean imperdiet. Etiam ultricies nisi vel augue. Curabitur ullamcorper ultricies nisi. Nam eget dui. Etiam rhoncus. Maecenas tempus, tellus eget condimentum rhoncus, sem quam semper libero, sit amet adipiscing sem neque sed ipsum. Nam quam nunc, blandit vel, luctus pulvinar, hendrerit id, lorem. Maecenas nec odio et ante tincidunt tempus. Donec vitae sapien ut libero venenatis faucibus. Nullam quis ante. Etiam sit amet orci eget eros faucibus tincidunt. Duis leo. Sed fringilla mauris sit amet nibh. Donec sodales sagittis magna. Sed consequat, leo eget bibendum sodales, augue velit cursus nunc,\"\"\"\n",
    "\n",
    "print(text)\n",
    "print()\n",
    "print(\"No of characters are: \",len(text))\n",
    "print(\"No of words are: \",len(text.split()))"
   ]
  },
  {
   "cell_type": "markdown",
   "id": "021435cc-b5a6-4cea-845e-d0c536b9a7ca",
   "metadata": {},
   "source": [
    "# Project 4:Counting the words"
   ]
  },
  {
   "cell_type": "code",
   "execution_count": 13,
   "id": "1c4e424b-ae65-4c4a-9462-eae2e33efe9e",
   "metadata": {},
   "outputs": [
    {
     "name": "stdout",
     "output_type": "stream",
     "text": [
      "6\n",
      "['a', 'b', 'c', 'a', 'a', 'b']\n",
      "a\n",
      "{'a': 1}\n",
      "b\n",
      "{'a': 1, 'b': 1}\n",
      "c\n",
      "{'a': 1, 'b': 1, 'c': 1}\n",
      "a\n",
      "{'a': 1, 'b': 1, 'c': 1}\n",
      "a\n",
      "{'a': 1, 'b': 1, 'c': 1}\n",
      "b\n",
      "{'a': 1, 'b': 1, 'c': 1}\n"
     ]
    }
   ],
   "source": [
    "text=\"a b c a a b\"\n",
    "print(len(text.split()))\n",
    "\n",
    "print(text.split())\n",
    "word_count={}\n",
    "\n",
    "for word in text.split():\n",
    "    print(word)\n",
    "    word_count[word]=1\n",
    "    print(word_count)"
   ]
  },
  {
   "cell_type": "markdown",
   "id": "272e892b-ccb0-4c85-b59d-9c8fcf0097e9",
   "metadata": {},
   "source": [
    "# Project 5:Game Loop"
   ]
  },
  {
   "cell_type": "code",
   "execution_count": 2,
   "id": "6e65ebca-4ab3-4388-a846-1f565ad2bfbd",
   "metadata": {},
   "outputs": [
    {
     "name": "stdin",
     "output_type": "stream",
     "text": [
      "what is your guess?  4\n",
      "what is your guess?  1\n",
      "what is your guess?  2\n",
      "what is your guess?  7\n",
      "what is your guess?  8\n",
      "what is your guess?  5\n"
     ]
    },
    {
     "name": "stdout",
     "output_type": "stream",
     "text": [
      "you got the answer in 6 attempt\n"
     ]
    }
   ],
   "source": [
    "guess=int(input(\"what is your guess? \"))\n",
    "correct_number=5\n",
    "guess_count=1\n",
    "while guess!=correct_number:\n",
    "    guess_count+=1\n",
    "    guess=int(input(\"what is your guess? \"))\n",
    "print(f\"you got the answer in {guess_count} attempt\")"
   ]
  },
  {
   "cell_type": "markdown",
   "id": "1526400e-b0a1-423d-a7ea-cfe9748f7154",
   "metadata": {},
   "source": [
    "# Project 6:Higher,Lower,Polish"
   ]
  },
  {
   "cell_type": "code",
   "execution_count": 6,
   "id": "a14a771b-4737-405e-a482-337927010ca4",
   "metadata": {},
   "outputs": [
    {
     "name": "stdout",
     "output_type": "stream",
     "text": [
      "Welcome to the guessing game.You have to pick a number between 1 to 100\n",
      "picking a number\n"
     ]
    },
    {
     "name": "stdin",
     "output_type": "stream",
     "text": [
      "what is your guess?:  20\n",
      "You are here to guess higher.what is your guess?:  50\n",
      "You are here to guess higher.what is your guess?:  70\n",
      "You are here to guess higher.what is your guess?:  80\n"
     ]
    },
    {
     "name": "stdout",
     "output_type": "stream",
     "text": [
      "you got the80 in 4 attempt\n"
     ]
    }
   ],
   "source": [
    "import random\n",
    "import time\n",
    "\n",
    "print(\"Welcome to the guessing game.You have to pick a number between 1 to 100\")\n",
    "time.sleep(3)\n",
    "print(\"picking a number\")\n",
    "time.sleep(3)\n",
    "guess=int(input(\"what is your guess?: \"))\n",
    "correct_number=random.randint(1,100)\n",
    "guess_count=1\n",
    "\n",
    "while guess!=correct_number:\n",
    "    guess_count+=1\n",
    "    if guess<correct_number:\n",
    "        time.sleep(2)\n",
    "        guess=int(input(\"You are here to guess higher.what is your guess?: \"))\n",
    "    else:\n",
    "         guess=int(input(\"You are here to guess lower.what is your guess?: \"))\n",
    "print(f\"you got the {correct_number} in {guess_count} attempt\")\n"
   ]
  },
  {
   "cell_type": "code",
   "execution_count": 16,
   "id": "c0fbe6d8-2930-47aa-9ddb-5037204707df",
   "metadata": {},
   "outputs": [
    {
     "name": "stdout",
     "output_type": "stream",
     "text": [
      "Which planet is known as the Red Planet?\n",
      "1. Jupiter\n",
      "2. Venus\n",
      "3. Mars\n",
      "4. Saturn\n"
     ]
    },
    {
     "name": "stdin",
     "output_type": "stream",
     "text": [
      "Enter your answer (option number):  3\n"
     ]
    },
    {
     "name": "stdout",
     "output_type": "stream",
     "text": [
      "Correct answer!\n",
      "What is the capital of India?\n",
      "1. Delhi\n",
      "2. Mumbai\n",
      "3. Kolkata\n",
      "4. Chennai\n"
     ]
    },
    {
     "name": "stdin",
     "output_type": "stream",
     "text": [
      "Enter your answer (option number):  2\n"
     ]
    },
    {
     "name": "stdout",
     "output_type": "stream",
     "text": [
      "Wrong answer!\n",
      "Prize Money: 1000\n"
     ]
    }
   ],
   "source": [
    "# Importing the random module to shuffle questions\n",
    "import random\n",
    "\n",
    "# Set the initial amount of prize money\n",
    "prize_money = 0\n",
    "\n",
    "# Create a list of questions with options and answers\n",
    "questions = [{\n",
    "   \"question\": \"What is the capital of India?\",\n",
    "   \"options\": [\"1. Delhi\", \"2. Mumbai\", \"3. Kolkata\", \"4. Chennai\"],\n",
    "   \"answer\": 1\n",
    "},{\n",
    "   \"question\": \"Which planet is known as the Red Planet?\",\n",
    "   \"options\": [\"1. Jupiter\", \"2. Venus\", \"3. Mars\", \"4. Saturn\"],\n",
    "   \"answer\": 3\n",
    "},{\n",
    "   \"question\": \"Who painted the Mona Lisa?\",\n",
    "   \"options\": [\"1. Vincent van Gogh\", \"2. Pablo Picasso\", \"3. Leonardo da Vinci\", \"4. Claude Monet\"],\n",
    "   \"answer\": 3\n",
    "}]\n",
    "\n",
    "# Shuffle the questions\n",
    "random.shuffle(questions)\n",
    "\n",
    "# Iterate over the questions using a for loop\n",
    "for question in questions:\n",
    "   # Display the question and options\n",
    "   print(question[\"question\"])\n",
    "   for option in question[\"options\"]:\n",
    "      print(option)\n",
    "    \n",
    "   # Read the user's answer\n",
    "   user_answer = int(input(\"Enter your answer (option number): \"))\n",
    "    \n",
    "   # Check if the user's answer is correct\n",
    "   if user_answer == question[\"answer\"]:\n",
    "      print(\"Correct answer!\")\n",
    "      prize_money += 1000\n",
    "   else:\n",
    "      print(\"Wrong answer!\")\n",
    "      break  # End the game if the answer is incorrect\n",
    "\n",
    "# Display the final prize money earned by the player\n",
    "print(\"Prize Money:\", prize_money)"
   ]
  },
  {
   "cell_type": "code",
   "execution_count": null,
   "id": "12162ce7-de55-4165-9c09-b9faf4da9256",
   "metadata": {},
   "outputs": [],
   "source": []
  },
  {
   "cell_type": "markdown",
   "id": "eabd762f-76d9-4a68-a0ec-ad66ec0bf3fd",
   "metadata": {},
   "source": [
    " # FINAL PROJECT OF BEGINNER LEVEL(NEW BORN BABY)"
   ]
  },
  {
   "cell_type": "code",
   "execution_count": 28,
   "id": "487ace73-0c11-486f-b61b-eeb97ccbb0f3",
   "metadata": {},
   "outputs": [
    {
     "name": "stdout",
     "output_type": "stream",
     "text": [
      "adaab abhinandan abhaar, swagat hai aapka is khel mai jiska naam hai Kaun Banega Crorepati\n",
      "kya aap yeh khel aage badhana chahte hai ? Type yes to continue and No to quit yes\n"
     ]
    },
    {
     "name": "stdin",
     "output_type": "stream",
     "text": [
      " no\n"
     ]
    },
    {
     "name": "stdout",
     "output_type": "stream",
     "text": [
      "Shukriya! Aapka din shubh ho!\n"
     ]
    }
   ],
   "source": [
    "import random\n",
    "import time\n",
    "\n",
    "Prize_money=0\n",
    "correct_answer=0\n",
    "\n",
    "print(\"adaab abhinandan abhaar, swagat hai aapka is khel mai jiska naam hai Kaun Banega Crorepati\")\n",
    "time.sleep(2)\n",
    "print(\"kya aap yeh khel aage badhana chahte hai ? Type yes to continue and No to quit yes\")\n",
    "choice=input().lower()\n",
    "time.sleep(2)\n",
    "\n",
    "if choice != \"yes\":\n",
    "        print(\"Shukriya! Aapka din shubh ho!\")\n",
    "else:       \n",
    "\n",
    "    print(\"Shuru karte hain yeh adbhut khel. Is khel mein 8 sawal honge.\")\n",
    "    time.sleep(1)\n",
    "    print(\"har sawal k 1 lakh ruppes jo as a point aapko milenge aur khel k last m aapko aapka total score btaya jayega aur is khel mai koi negative marking nahi hogi..\")\n",
    "    time.sleep(1)\n",
    "    print(\"To aaiye aapke saamne pesh krte hai aapka pehla sawal:\")\n",
    "    time.sleep(3)\n",
    "\n",
    "    questions = [\n",
    "        {\"question\": \"Which is the longest river in the world?\", \n",
    "         \"options\": [\"A. Amazon\", \"B. Nile\", \"C. Ganga\", \"D. Yangtze\"],\n",
    "            \"answer\": \"b\"},\n",
    "        {\"question\": \"What is the capital city of Australia?\", \n",
    "         \"options\": [\"A. Canberra\", \"B. Melbourne\", \"C. Perth\", \"D. Sydney\"], \n",
    "         \"answer\": \"A\"},\n",
    "        {\"question\": \"Which planet is known as the 'Red Planet?\", \n",
    "         \"options\": [\"A. Venus\", \"B. Saturn\", \"C. Mars\", \"D. Jupiter\"], \n",
    "         \"answer\": \"C\"},\n",
    "        {\"question\": \"Who wrote the epic 'Mahabharata?\", \n",
    "         \"options\": [\"A. Valmiki\", \"B. Kalidasa\", \"C. Tulsidas\", \"D.  Ved Vyasa\"], \n",
    "         \"answer\": \"D\"},\n",
    "        {\"question\": \"What is the smallest prime number?\", \n",
    "         \"options\": [\"A. 1\", \"B. 2\", \"C. 3\", \"D. 5\"], \n",
    "         \"answer\": \"B\"},\n",
    "         {\"question\": \"Which is the largest mammal on Earth?\", \n",
    "         \"options\": [\"A. Blue Whale\", \"B. Elephant\", \"C. Hippopotamus\", \"D. Hippopotamus\"], \n",
    "         \"answer\": \"B\"},\n",
    "        {\"question\": \"What is the chemical symbol for water?\", \n",
    "         \"options\": [\"A. CO2\", \"B. H2O\", \"C.O2\", \"D. NaCl\"], \n",
    "         \"answer\": \"B\"}\n",
    "        \n",
    "    ]\n",
    "    random.shuffle(questions)\n",
    "    \n",
    "    for question in questions:\n",
    "       print(question[\"question\"])\n",
    "       for option in question[\"options\"]:\n",
    "          print(option)\n",
    "    \n",
    "       user_answer = input(\"Enter your answer (option): \").upper()\n",
    "       \n",
    "       \n",
    "\n",
    "       if user_answer == question[\"answer\"].upper():\n",
    "          Prize_money += 100000\n",
    "          correct_answer+=1\n",
    "          print(f\"Sahi jawab! Aapko milte hain 1 lakh rupaye.\")\n",
    "          \n",
    "           \n",
    "       else:\n",
    "          print(f\"Galat jawab! But it's okay, aage ke sawal ka sahi jawab de sakte hain aap.\")\n",
    "\n",
    "    print(f\"You've got {correct_answer} questions correct.\")\n",
    "    print(f\"And you got {Prize_money} Rupees.\")\n",
    "\n",
    "\n"
   ]
  },
  {
   "cell_type": "code",
   "execution_count": 21,
   "id": "4617b0e4-97ec-4cfc-ab43-3f42ebd072cc",
   "metadata": {},
   "outputs": [
    {
     "name": "stdin",
     "output_type": "stream",
     "text": [
      "Enter your answer (option):  a\n"
     ]
    },
    {
     "name": "stdout",
     "output_type": "stream",
     "text": [
      "a\n"
     ]
    }
   ],
   "source": [
    "user_answer = input(\"Enter your answer (option): \")\n",
    "user_answer.upper()\n",
    "print(user_answer)\n"
   ]
  },
  {
   "cell_type": "code",
   "execution_count": null,
   "id": "de1198a5-bb57-4eef-806b-e22b44f8f6d8",
   "metadata": {},
   "outputs": [],
   "source": []
  },
  {
   "cell_type": "markdown",
   "id": "3ba74795-ce28-47fe-88b4-1b1d22ac7332",
   "metadata": {},
   "source": [
    "# Project 7 Bank Management System"
   ]
  },
  {
   "cell_type": "code",
   "execution_count": 13,
   "id": "2d1e172c-2694-4e1b-ba74-06f6dd095974",
   "metadata": {},
   "outputs": [],
   "source": [
    "class User:\n",
    "    def __init__(self,name,age,gender,acnumber):\n",
    "        self.name=name\n",
    "        self.age=age\n",
    "        self.gender=gender\n",
    "        self.acnumber=acnumber\n",
    "    def show_details(self):\n",
    "        print(\"Personal Details:\")\n",
    "        print(\"Name\",self.name)\n",
    "        print(\"Age\",self.age)\n",
    "        print(\"Gender\",self.gender)\n",
    "        print(\"Account Number\",self.acnumber)"
   ]
  },
  {
   "cell_type": "code",
   "execution_count": 14,
   "id": "bcfa5833-59eb-49ff-8ffa-7eb6bd49b0d8",
   "metadata": {},
   "outputs": [
    {
     "name": "stdout",
     "output_type": "stream",
     "text": [
      "Personal Details:\n",
      "Name Nikist\n",
      "Age 25\n",
      "Gender Female\n",
      "Account Number 204\n"
     ]
    }
   ],
   "source": [
    "u1=User(\"Nikist\",25,\"Female\",204)\n",
    "u1.show_details()"
   ]
  },
  {
   "cell_type": "code",
   "execution_count": 18,
   "id": "6809c22d-b07a-4955-9554-381ac7ef4de8",
   "metadata": {},
   "outputs": [],
   "source": [
    "class Bank(User):\n",
    "    def __init__(self,name,age,gender,acnumber):\n",
    "        super().__init__(name,age,gender,acnumber)\n",
    "        self.balance=0\n",
    "    def deposit(self,amount):\n",
    "        self.amount=amount\n",
    "        self.balance=self.balance+self.amount\n",
    "        print(\"Account balance for account number\",self.acnumber,\"has been updated:Rs\",self.balance)\n",
    "    def withdraw(self,amount):\n",
    "         self.amount=amount\n",
    "         if self.amount>self.balance:\n",
    "             print(\"insufficient balance\")\n",
    "         else:\n",
    "            self.balance=self.balance-self.amount\n",
    "            print(\"withdrawal successfull.The updated balance is\",self.balance)\n",
    "    def view_balance(self):\n",
    "        self.show_details()\n",
    "        print(\"Your account balance is\",self.balance)\n",
    "    "
   ]
  },
  {
   "cell_type": "code",
   "execution_count": 19,
   "id": "80ce64b2-75c9-440a-8980-6a4e84af91c8",
   "metadata": {},
   "outputs": [
    {
     "name": "stdout",
     "output_type": "stream",
     "text": [
      "Personal Details:\n",
      "Name Nikist\n",
      "Age 25\n",
      "Gender Female\n",
      "Account Number 204\n",
      "Account balance for account number 204 has been updated:Rs 100\n",
      "Account balance for account number 204 has been updated:Rs 400\n",
      "insufficient balance\n",
      "withdrawal successfull.The updated balance is 300\n"
     ]
    }
   ],
   "source": [
    "b1=Bank(\"Nikist\",25,\"Female\",204)\n",
    "b1.show_details()\n",
    "b1.deposit(100)\n",
    "b1.deposit(300)\n",
    "b1.withdraw(600)\n",
    "b1.withdraw(100)\n"
   ]
  },
  {
   "cell_type": "code",
   "execution_count": 20,
   "id": "75d886bc-0dad-4fbb-b652-f01b88b66d8a",
   "metadata": {},
   "outputs": [
    {
     "name": "stdout",
     "output_type": "stream",
     "text": [
      "Personal Details:\n",
      "Name Nikist\n",
      "Age 25\n",
      "Gender Female\n",
      "Account Number 204\n",
      "Your account balance is 300\n"
     ]
    }
   ],
   "source": [
    "b1.view_balance()"
   ]
  },
  {
   "cell_type": "markdown",
   "id": "cc19f20c-438e-4fa9-91e7-a56565b81152",
   "metadata": {},
   "source": [
    "# Project 8:make a new folder open a file in that folder and then perform crud operation"
   ]
  },
  {
   "cell_type": "code",
   "execution_count": 14,
   "id": "8839b57d-0be1-4885-a2d4-ecc1fc2526cd",
   "metadata": {},
   "outputs": [
    {
     "name": "stdout",
     "output_type": "stream",
     "text": [
      "Read content of the file\n",
      "Line 1: Hello, World!\n",
      "Line 2: Welcome to CRUD operations in Python.\n",
      "\n",
      "Read content of the file\n",
      "Line 1: Hello, World!\n",
      "Line 2: Welcome to CRUD operations in Python.\n",
      "Added a new line to the end of the file\n",
      "File 'test_folder\\data.txt' has been deleted.\n"
     ]
    }
   ],
   "source": [
    "import os\n",
    "\n",
    "# Create a new folder\n",
    "folder_path = \"test_folder\"\n",
    "if not os.path.exists(folder_path):\n",
    "    os.makedirs(folder_path)\n",
    "\n",
    "# CRUD OPERATIONS\n",
    "# Create and open a new file in that folder\n",
    "file_path = os.path.join(folder_path, \"data.txt\")\n",
    "\n",
    "# Write content\n",
    "with open(file_path, \"w\") as file:\n",
    "    # Initial write operation (Create)\n",
    "    file.write(\"Line 1: Hello, World!\\n\")\n",
    "    file.write(\"Line 2: Welcome to CRUD operations in Python.\\n\")\n",
    "\n",
    "# Read content\n",
    "with open(file_path, \"r\") as file:\n",
    "    print(\"Read content of the file\")\n",
    "    print(file.read())\n",
    "\n",
    "# Update content-appending linea at the end\n",
    "with open(file_path, \"a\") as file:\n",
    "    file.write(\"Added a new line to the end of the file\")\n",
    "# conforming update by reading again\n",
    "with open(file_path, \"r\") as file:\n",
    "    print(\"Read content of the file\")\n",
    "    print(file.read())\n",
    "\n",
    "# Deleting a file\n",
    "os.remove(file_path)\n",
    "print(f\"File '{file_path}' has been deleted.\")\n"
   ]
  },
  {
   "cell_type": "markdown",
   "id": "91eebb9c-12c2-4d30-8abf-fafdd9868637",
   "metadata": {},
   "source": [
    "# INTERMEDIATE FINAL PROJECT"
   ]
  },
  {
   "cell_type": "markdown",
   "id": "15ffde6d-d325-4ca6-973b-2eddcca7bf04",
   "metadata": {},
   "source": [
    "# Vehicle Rented System"
   ]
  },
  {
   "cell_type": "code",
   "execution_count": null,
   "id": "33d0a357-b314-4af5-a3c6-4479f9b37293",
   "metadata": {},
   "outputs": [
    {
     "name": "stdout",
     "output_type": "stream",
     "text": [
      "\n",
      "Welcome to the Coders Camp Showroom. Enter your choice to continue:\n",
      "1. Display list of all vehicles\n",
      "2. Lend a vehicle\n",
      "3. Add a vehicle\n",
      "4. Return a vehicle\n",
      "Press Q to quit\n"
     ]
    },
    {
     "name": "stdin",
     "output_type": "stream",
     "text": [
      "Enter your choice:  1\n"
     ]
    },
    {
     "name": "stdout",
     "output_type": "stream",
     "text": [
      "We have following vehicles in our automobile showroom:\n",
      "car\n",
      "activa 5g\n",
      "pulsor motorcycle\n",
      "kawasaki Ninja\n",
      "Duke\n",
      "\n",
      "Welcome to the Coders Camp Showroom. Enter your choice to continue:\n",
      "1. Display list of all vehicles\n",
      "2. Lend a vehicle\n",
      "3. Add a vehicle\n",
      "4. Return a vehicle\n",
      "Press Q to quit\n"
     ]
    },
    {
     "name": "stdin",
     "output_type": "stream",
     "text": [
      "Enter your choice:  2\n",
      "Enter the name of the vehicle:  car\n",
      "Enter your name:  Riya\n"
     ]
    },
    {
     "name": "stdout",
     "output_type": "stream",
     "text": [
      "Vehicle 'car' lent to Riya.\n",
      "\n",
      "Welcome to the Coders Camp Showroom. Enter your choice to continue:\n",
      "1. Display list of all vehicles\n",
      "2. Lend a vehicle\n",
      "3. Add a vehicle\n",
      "4. Return a vehicle\n",
      "Press Q to quit\n"
     ]
    },
    {
     "name": "stdin",
     "output_type": "stream",
     "text": [
      "Enter your choice:  3\n",
      "Enter the name of the vehicle to add:  Baleno\n"
     ]
    },
    {
     "name": "stdout",
     "output_type": "stream",
     "text": [
      "Vehicle 'Baleno' has been added to the showroom.\n",
      "\n",
      "Welcome to the Coders Camp Showroom. Enter your choice to continue:\n",
      "1. Display list of all vehicles\n",
      "2. Lend a vehicle\n",
      "3. Add a vehicle\n",
      "4. Return a vehicle\n",
      "Press Q to quit\n"
     ]
    },
    {
     "name": "stdin",
     "output_type": "stream",
     "text": [
      "Enter your choice:  1\n"
     ]
    },
    {
     "name": "stdout",
     "output_type": "stream",
     "text": [
      "We have following vehicles in our automobile showroom:\n",
      "activa 5g\n",
      "pulsor motorcycle\n",
      "kawasaki Ninja\n",
      "Duke\n",
      "Baleno\n",
      "\n",
      "Welcome to the Coders Camp Showroom. Enter your choice to continue:\n",
      "1. Display list of all vehicles\n",
      "2. Lend a vehicle\n",
      "3. Add a vehicle\n",
      "4. Return a vehicle\n",
      "Press Q to quit\n"
     ]
    },
    {
     "name": "stdin",
     "output_type": "stream",
     "text": [
      "Enter your choice:  4\n",
      "Enter the name of the vehicle to return:  car\n"
     ]
    },
    {
     "name": "stdout",
     "output_type": "stream",
     "text": [
      "Vehicle 'car' returned by Riya.\n",
      "\n",
      "Welcome to the Coders Camp Showroom. Enter your choice to continue:\n",
      "1. Display list of all vehicles\n",
      "2. Lend a vehicle\n",
      "3. Add a vehicle\n",
      "4. Return a vehicle\n",
      "Press Q to quit\n"
     ]
    },
    {
     "name": "stdin",
     "output_type": "stream",
     "text": [
      "Enter your choice:  2\n",
      "Enter the name of the vehicle:  Baleno\n",
      "Enter your name:  Raju\n"
     ]
    },
    {
     "name": "stdout",
     "output_type": "stream",
     "text": [
      "Vehicle 'Baleno' lent to Raju.\n",
      "\n",
      "Welcome to the Coders Camp Showroom. Enter your choice to continue:\n",
      "1. Display list of all vehicles\n",
      "2. Lend a vehicle\n",
      "3. Add a vehicle\n",
      "4. Return a vehicle\n",
      "Press Q to quit\n"
     ]
    },
    {
     "name": "stdin",
     "output_type": "stream",
     "text": [
      "Enter your choice:  2\n",
      "Enter the name of the vehicle:  Raju\n",
      "Enter your name:  Aarya\n"
     ]
    },
    {
     "name": "stdout",
     "output_type": "stream",
     "text": [
      "Sorry, we don't have the vehicle 'Raju' in the showroom.\n",
      "\n",
      "Welcome to the Coders Camp Showroom. Enter your choice to continue:\n",
      "1. Display list of all vehicles\n",
      "2. Lend a vehicle\n",
      "3. Add a vehicle\n",
      "4. Return a vehicle\n",
      "Press Q to quit\n"
     ]
    }
   ],
   "source": [
    "class Showroom:\n",
    "    def __init__(self):\n",
    "        self.vehicles = [\"car\", \"activa 5g\", \"pulsor motorcycle\", \"kawasaki Ninja\", \"Duke\"]\n",
    "        self.lent_vehicles = {}\n",
    "\n",
    "    def display_vehicles(self):\n",
    "        print(\"We have following vehicles in our automobile showroom:\")\n",
    "        for vehicle in self.vehicles:\n",
    "            print(vehicle)\n",
    "\n",
    "    def lend_vehicle(self, vehicle_name, borrower_name):\n",
    "        if vehicle_name in self.vehicles:\n",
    "            self.vehicles.remove(vehicle_name)\n",
    "            self.lent_vehicles[vehicle_name] = borrower_name\n",
    "            print(f\"Vehicle '{vehicle_name}' lent to {borrower_name}.\")\n",
    "        elif vehicle_name in self.lent_vehicles:\n",
    "            print(f\"Sorry, the vehicle '{vehicle_name}' is currently lent to {self.lent_vehicles[vehicle_name]}.\")\n",
    "        else:\n",
    "            print(f\"Sorry, we don't have the vehicle '{vehicle_name}' in the showroom.\")\n",
    "\n",
    "    def add_vehicle(self, vehicle_name):\n",
    "        self.vehicles.append(vehicle_name)\n",
    "        print(f\"Vehicle '{vehicle_name}' has been added to the showroom.\")\n",
    "\n",
    "    def return_vehicle(self, vehicle_name):\n",
    "        if vehicle_name in self.lent_vehicles:\n",
    "            borrower_name = self.lent_vehicles.pop(vehicle_name)\n",
    "            self.vehicles.append(vehicle_name)\n",
    "            print(f\"Vehicle '{vehicle_name}' returned by {borrower_name}.\")\n",
    "        else:\n",
    "            print(f\"The vehicle '{vehicle_name}' was not lent out.\")\n",
    "\n",
    "def main():\n",
    "    showroom = Showroom()\n",
    "    while True:\n",
    "        print(\"\\nWelcome to the Coders Camp Showroom. Enter your choice to continue:\")\n",
    "        print(\"1. Display list of all vehicles\")\n",
    "        print(\"2. Lend a vehicle\")\n",
    "        print(\"3. Add a vehicle\")\n",
    "        print(\"4. Return a vehicle\")\n",
    "        print(\"Press Q to quit\")\n",
    "        \n",
    "        choice = input(\"Enter your choice: \").strip().lower()\n",
    "        if choice == '1':\n",
    "            showroom.display_vehicles()\n",
    "        elif choice == '2':\n",
    "            vehicle_name = input(\"Enter the name of the vehicle: \").strip()\n",
    "            borrower_name = input(\"Enter your name: \").strip()\n",
    "            showroom.lend_vehicle(vehicle_name, borrower_name)\n",
    "        elif choice == '3':\n",
    "            vehicle_name = input(\"Enter the name of the vehicle to add: \").strip()\n",
    "            showroom.add_vehicle(vehicle_name)\n",
    "        elif choice == '4':\n",
    "            vehicle_name = input(\"Enter the name of the vehicle to return: \").strip()\n",
    "            showroom.return_vehicle(vehicle_name)\n",
    "        elif choice == 'q':\n",
    "            print(\"Thank you for visiting the showroom!\")\n",
    "            break\n",
    "        else:\n",
    "            print(\"Invalid choice, please try again.\")\n",
    "\n",
    "\n",
    "main()\n"
   ]
  },
  {
   "cell_type": "markdown",
   "id": "9820ba8e-fb4e-415d-9f02-2fede6503055",
   "metadata": {},
   "source": [
    "# The Pro coder(Advance Level)"
   ]
  },
  {
   "cell_type": "markdown",
   "id": "3cecdc5c-117d-46ee-b40d-a26dc5d674a4",
   "metadata": {},
   "source": [
    "#Project on Toplevel widget -create multiple toplevels over one another in python"
   ]
  },
  {
   "cell_type": "code",
   "execution_count": 4,
   "id": "998da3b5-8bbe-41e8-a3f8-f422fab761c8",
   "metadata": {},
   "outputs": [],
   "source": [
    "\n",
    "from tkinter import *\n",
    " \n",
    " \n",
    "# Create the root window\n",
    "# with specified size and title\n",
    "root = Tk()  \n",
    "root.title(\"Root Window\")  \n",
    "root.geometry(\"450x300\")  \n",
    " \n",
    "# Create label for root window\n",
    "label1 = Label(root, text = \"This is the root window\")\n",
    "   \n",
    "# define a function for 2nd toplevel \n",
    "# window which is not associated with \n",
    "# any parent window\n",
    "def open_Toplevel2():  \n",
    "    # Create widget\n",
    "    top2 = Toplevel() \n",
    "     \n",
    "    # define title for window\n",
    "    top2.title(\"Toplevel2\")\n",
    "     \n",
    "    # specify size\n",
    "    top2.geometry(\"200x100\")\n",
    "     \n",
    "    # Create label\n",
    "    label = Label(top2,\n",
    "                  text = \"This is a Toplevel2 window\")\n",
    "     \n",
    "    # Create exit button.\n",
    "    button = Button(top2, text = \"Exit\", \n",
    "                    command = top2.destroy)\n",
    "     \n",
    "    label.pack()\n",
    "    button.pack()\n",
    "      \n",
    "    # Display until closed manually.\n",
    "    top2.mainloop()\n",
    "      \n",
    "# define a function for 1st toplevel\n",
    "# which is associated with root window.\n",
    "def open_Toplevel1():  \n",
    "     \n",
    "    # Create widget\n",
    "    top1 = Toplevel(root)\n",
    "     \n",
    "    # Define title for window\n",
    "    top1.title(\"Toplevel1\")\n",
    "     \n",
    "    # specify size\n",
    "    top1.geometry(\"200x200\")\n",
    "     \n",
    "    # Create label\n",
    "    label = Label(top1,text = \"This is a Toplevel1 window\")\n",
    "     \n",
    "    # Create Exit button\n",
    "    button1 = Button(top1, text = \"Exit\",command = top1.destroy)\n",
    "     \n",
    "    # create button to open toplevel2\n",
    "    button2 = Button(top1, text = \"open toplevel2\",command = open_Toplevel2)\n",
    "     \n",
    "    label.pack()\n",
    "    button2.pack()\n",
    "    button1.pack()\n",
    "     \n",
    "    # Display until closed manually\n",
    "    top1.mainloop()\n",
    " \n",
    "# Create button to open toplevel1\n",
    "button = Button(root, text = \"open toplevel1\", command = open_Toplevel1)\n",
    "label1.pack()\n",
    " \n",
    "# position the button\n",
    "button.place(x = 155, y = 50)\n",
    "   \n",
    "# Display until closed manually\n",
    "root.mainloop()"
   ]
  },
  {
   "cell_type": "markdown",
   "id": "d25bce23-94b3-4cb4-beba-c3eb3b3dd108",
   "metadata": {},
   "source": [
    "#Project on Listbox Widget:-Insert an elememnt at specified index in the list"
   ]
  },
  {
   "cell_type": "code",
   "execution_count": 8,
   "id": "7f992822-7a6b-4420-86c6-370f68fa5ca5",
   "metadata": {},
   "outputs": [],
   "source": [
    "#Toplevel widget\n",
    "from tkinter import *\n",
    "top=Tk()\n",
    "listbox=Listbox(top,height=10,width=15,bg=\"grey\",activestyle='dotbox',font=\"Helvetica\",fg='yellow')\n",
    "top.geometry(\"300x250\")\n",
    "label=Label(top,text=\"Food Items\")\n",
    "\n",
    "listbox.insert(1,\"Nachos\")\n",
    "listbox.insert(2,\"Sandwich\")\n",
    "listbox.insert(3,\"Burger\")\n",
    "listbox.insert(4,\"Pizza\")\n",
    "listbox.insert(5,\"French Fries\")\n",
    "\n",
    "label.pack()\n",
    "listbox.pack()\n",
    "listbox.insert(6,\"Candy\")\n",
    "listbox.delete(1)\n",
    "\n",
    "top.mainloop()\n"
   ]
  },
  {
   "cell_type": "markdown",
   "id": "5f168de7-99ff-4b6e-a972-b3d264c3f344",
   "metadata": {},
   "source": [
    "#Project on MessageBox Widget"
   ]
  },
  {
   "cell_type": "code",
   "execution_count": null,
   "id": "06009df5-4522-4638-8f25-1162b140006d",
   "metadata": {},
   "outputs": [],
   "source": [
    "#MessageBox Button\n",
    "import tkinter as tk\n",
    "from tkinter import messagebox\n",
    "\n",
    "def show_info():\n",
    "    messagebox.showinfo(\"Information\", \"This is an information message.\")\n",
    "\n",
    "def show_warning():\n",
    "    messagebox.showwarning(\"Warning\", \"This is a warning message.\")\n",
    "\n",
    "def show_error():\n",
    "    messagebox.showerror(\"Error\", \"This is an error message.\")\n",
    "\n",
    "def show_askquestion():\n",
    "    messagebox.askquestion(\"askquestion\",\"Are you sure?\")\n",
    "\n",
    "def show_askokcancel():\n",
    "    messagebox.askokcancel(\"askokcancel\",\"Want to continue?\")\n",
    "\n",
    "def show_askyesno():\n",
    "    messagebox.askyesno(\"askyesno\",\"Find the value?\")\n",
    "\n",
    "def show_askretrycancel():\n",
    "    messagebox.askretrycancel(\"askretry\",\"Wanna try again?\")\n",
    "    \n",
    "# Create main window\n",
    "root = tk.Tk()\n",
    "root.title(\"Messagebox Example\")\n",
    "\n",
    "# Create buttons\n",
    "tk.Button(root, text=\"Show Info\", command=show_info).pack(pady=10)\n",
    "tk.Button(root, text=\"Show Warning\", command=show_warning).pack(pady=10)\n",
    "tk.Button(root, text=\"Show Error\", command=show_error).pack(pady=10)\n",
    "tk.Button(root, text=\"Show askquestion\", command=show_askquestion).pack(pady=10)\n",
    "tk.Button(root, text=\"show askokcancel\", command=show_askokcancel).pack(pady=10)\n",
    "tk.Button(root, text=\"show askyesno\", command=show_askyesno).pack(pady=10)\n",
    "tk.Button(root, text=\"show askretrycancel\", command=show_askretrycancel).pack(pady=10)\n",
    "\n",
    "# Run the application\n",
    "root.mainloop()\n"
   ]
  },
  {
   "cell_type": "markdown",
   "id": "ba338de5-2e94-43dd-b869-966990dab1a5",
   "metadata": {},
   "source": [
    "#Project on Canvas:-Create a pie chart using arcs"
   ]
  },
  {
   "cell_type": "code",
   "execution_count": 9,
   "id": "abd3ab0d-4a33-4402-b0cd-a069ad9457fe",
   "metadata": {},
   "outputs": [],
   "source": [
    "import tkinter as tk\n",
    "\n",
    "# Create main window\n",
    "root = tk.Tk()\n",
    "root.title(\"Canvas Pie Chart\")\n",
    "\n",
    "# Create canvas\n",
    "canvas = tk.Canvas(root, width=300, height=300)\n",
    "canvas.pack()\n",
    "\n",
    "# Draw pie chart using arcs\n",
    "canvas.create_arc(50, 50, 250, 250, start=0, extent=120, fill=\"red\")   # Red slice\n",
    "canvas.create_arc(50, 50, 250, 250, start=120, extent=120, fill=\"blue\")  # Blue slice\n",
    "canvas.create_arc(50, 50, 250, 250, start=240, extent=120, fill=\"green\") # Green slice\n",
    "\n",
    "# Run the application\n",
    "root.mainloop()\n"
   ]
  },
  {
   "cell_type": "markdown",
   "id": "a8e60eac-5dc6-4f3a-84d8-e9e871d4cecd",
   "metadata": {},
   "source": [
    "#Project on Checkbutton:-Create multiple checkbutton with one checkbutton selected by default"
   ]
  },
  {
   "cell_type": "code",
   "execution_count": null,
   "id": "fb88cfdc-05c8-4a7b-a4b0-78db89a0bcbb",
   "metadata": {},
   "outputs": [],
   "source": [
    "from tkinter import *\n",
    "\n",
    "# Create the main window\n",
    "root = Tk()\n",
    "root.geometry(\"500x500\")\n",
    "root.title(\"Checkbutton Example\")\n",
    "\n",
    "# Add a title label\n",
    "w = Label(root, text=\"Python Mastery\", font=\"Arial 20 bold\")\n",
    "w.pack(pady=10)\n",
    "\n",
    "# Variables for Checkbuttons\n",
    "checkbutton1 = IntVar(value=1)  # Selected by default\n",
    "checkbutton2 = IntVar(value=0)  # Not selected\n",
    "checkbutton3 = IntVar(value=0)  # Not selected\n",
    "\n",
    "# Create Checkbuttons with better labels\n",
    "Button1 = Checkbutton(root, text=\"Option 1\", variable=checkbutton1, onvalue=1, offvalue=0, height=2, width=15)\n",
    "Button2 = Checkbutton(root, text=\"Option 2\", variable=checkbutton2, onvalue=1, offvalue=0, height=2, width=15)\n",
    "Button3 = Checkbutton(root, text=\"Option 3\", variable=checkbutton3, onvalue=1, offvalue=0, height=2, width=15)\n",
    "\n",
    "# Add Checkbuttons to the window\n",
    "Button1.pack(pady=5)\n",
    "Button2.pack(pady=5)\n",
    "Button3.pack(pady=5)\n",
    "\n",
    "# Run the application\n",
    "root.mainloop()\n"
   ]
  },
  {
   "cell_type": "markdown",
   "id": "d21e7e2c-4154-40a0-ab1d-ded5dd25839d",
   "metadata": {},
   "source": [
    "#GUI Project:-Design a widget with use of required widgets"
   ]
  },
  {
   "cell_type": "code",
   "execution_count": 11,
   "id": "c29626fb-2b53-437c-8a94-63a9ee74e3f8",
   "metadata": {},
   "outputs": [],
   "source": [
    "import tkinter as tk\n",
    "\n",
    "# Create main window\n",
    "root = tk.Tk()\n",
    "root.title(\"Form Example\")\n",
    "\n",
    "# Add widgets to the form\n",
    "tk.Label(root, text=\"Name:\").grid(row=0, column=0, padx=10, pady=10)\n",
    "tk.Entry(root).grid(row=0, column=1, padx=10, pady=10)\n",
    "\n",
    "tk.Label(root, text=\"Email:\").grid(row=1, column=0, padx=10, pady=10)\n",
    "tk.Entry(root).grid(row=1, column=1, padx=10, pady=10)\n",
    "\n",
    "tk.Label(root, text=\"Gender:\").grid(row=2, column=0, padx=10, pady=10)\n",
    "tk.Radiobutton(root, text=\"Male\", value=\"Male\").grid(row=2, column=1)\n",
    "tk.Radiobutton(root, text=\"Female\", value=\"Female\").grid(row=2, column=2)\n",
    "\n",
    "tk.Button(root, text=\"Submit\").grid(row=3, columnspan=2, pady=10)\n",
    "\n",
    "\n",
    "root.mainloop()\n"
   ]
  },
  {
   "cell_type": "code",
   "execution_count": null,
   "id": "b26613f8-bc47-4113-954a-1e9e9fcfd943",
   "metadata": {},
   "outputs": [],
   "source": []
  }
 ],
 "metadata": {
  "kernelspec": {
   "display_name": "Python 3 (ipykernel)",
   "language": "python",
   "name": "python3"
  },
  "language_info": {
   "codemirror_mode": {
    "name": "ipython",
    "version": 3
   },
   "file_extension": ".py",
   "mimetype": "text/x-python",
   "name": "python",
   "nbconvert_exporter": "python",
   "pygments_lexer": "ipython3",
   "version": "3.12.4"
  }
 },
 "nbformat": 4,
 "nbformat_minor": 5
}
